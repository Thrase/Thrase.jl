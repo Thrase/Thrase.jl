{
 "cells": [
  {
   "cell_type": "code",
   "execution_count": 5,
   "metadata": {},
   "outputs": [
    {
     "data": {
      "text/plain": [
       "\"../202412201339\""
      ]
     },
     "metadata": {},
     "output_type": "display_data"
    }
   ],
   "source": [
    "output_dirs = \"../202412201339\""
   ]
  },
  {
   "cell_type": "code",
   "execution_count": 6,
   "metadata": {},
   "outputs": [
    {
     "name": "stdout",
     "output_type": "stream",
     "text": [
      "../202412201339"
     ]
    }
   ],
   "source": [
    "print(output_dirs)"
   ]
  },
  {
   "cell_type": "code",
   "execution_count": 7,
   "metadata": {},
   "outputs": [
    {
     "data": {
      "text/plain": [
       "10-element Vector{String}:\n",
       " \"fltst_strk+00dp+00.txt\"\n",
       " \"fltst_strk+00dp+10.txt\"\n",
       " \"fltst_strk+00dp+22.txt\"\n",
       " \"fltst_strk+16dp+00.txt\"\n",
       " \"fltst_strk+16dp+10.txt\"\n",
       " \"fltst_strk+36dp+00.txt\"\n",
       " \"fltst_strk-16dp+00.txt\"\n",
       " \"fltst_strk-16dp+10.txt\"\n",
       " \"fltst_strk-24dp+10.txt\"\n",
       " \"fltst_strk-36dp+00.txt\""
      ]
     },
     "metadata": {},
     "output_type": "display_data"
    }
   ],
   "source": [
    "readdir(output_dirs)"
   ]
  },
  {
   "cell_type": "code",
   "execution_count": null,
   "metadata": {},
   "outputs": [],
   "source": []
  }
 ],
 "metadata": {
  "kernelspec": {
   "display_name": "Julia 1.11.2",
   "language": "julia",
   "name": "julia-1.11"
  },
  "language_info": {
   "file_extension": ".jl",
   "mimetype": "application/julia",
   "name": "julia",
   "version": "1.11.2"
  }
 },
 "nbformat": 4,
 "nbformat_minor": 2
}
